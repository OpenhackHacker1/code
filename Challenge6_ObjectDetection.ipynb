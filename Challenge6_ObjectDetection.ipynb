{
 "cells": [
  {
   "cell_type": "code",
   "execution_count": null,
   "metadata": {},
   "outputs": [],
   "source": [
    "! curl -O https://challenge.blob.core.windows.net/challengefiles/summit_post_urls_selected.txt"
   ]
  },
  {
   "cell_type": "code",
   "execution_count": 16,
   "metadata": {},
   "outputs": [
    {
     "name": "stdout",
     "output_type": "stream",
     "text": [
      "Cloning into 'keras-retinanet'...\n",
      "remote: Counting objects: 4260, done.\u001b[K\n",
      "remote: Compressing objects: 100% (35/35), done.\u001b[K\n",
      "remote: Total 4260 (delta 19), reused 24 (delta 12), pack-reused 4213\u001b[K\n",
      "Receiving objects: 100% (4260/4260), 12.31 MiB | 14.31 MiB/s, done.\n",
      "Resolving deltas: 100% (2810/2810), done.\n"
     ]
    }
   ],
   "source": [
    "! git clone https://github.com/fizyr/keras-retinanet.git"
   ]
  },
  {
   "cell_type": "code",
   "execution_count": 14,
   "metadata": {},
   "outputs": [
    {
     "name": "stdout",
     "output_type": "stream",
     "text": [
      "Collecting git+https://github.com/fizyr/keras-retinanet.git\n",
      "  Cloning https://github.com/fizyr/keras-retinanet.git to /tmp/pip-req-build-c93sju2h\n",
      "Requirement already satisfied: keras in /anaconda/envs/py35/lib/python3.5/site-packages (from keras-retinanet==0.4.1) (2.2.0)\n",
      "Collecting keras-resnet (from keras-retinanet==0.4.1)\n",
      "  Downloading https://files.pythonhosted.org/packages/05/46/ad0b2d1a05d9497bd80c98a2c3f4d8be38a4601ace69af72814f5fafd851/keras-resnet-0.1.0.tar.gz\n",
      "Requirement already satisfied: six in /anaconda/envs/py35/lib/python3.5/site-packages (from keras-retinanet==0.4.1) (1.11.0)\n",
      "Requirement already satisfied: scipy in /anaconda/envs/py35/lib/python3.5/site-packages (from keras-retinanet==0.4.1) (1.1.0)\n",
      "Requirement already satisfied: cython in /anaconda/envs/py35/lib/python3.5/site-packages (from keras-retinanet==0.4.1) (0.28.2)\n",
      "Requirement already satisfied: h5py in /anaconda/envs/py35/lib/python3.5/site-packages (from keras->keras-retinanet==0.4.1) (2.7.1)\n",
      "Requirement already satisfied: pyyaml in /anaconda/envs/py35/lib/python3.5/site-packages (from keras->keras-retinanet==0.4.1) (3.12)\n",
      "Requirement already satisfied: numpy>=1.9.1 in /anaconda/envs/py35/lib/python3.5/site-packages (from keras->keras-retinanet==0.4.1) (1.14.5)\n",
      "Requirement already satisfied: keras-preprocessing==1.0.1 in /anaconda/envs/py35/lib/python3.5/site-packages (from keras->keras-retinanet==0.4.1) (1.0.1)\n",
      "Requirement already satisfied: keras-applications==1.0.2 in /anaconda/envs/py35/lib/python3.5/site-packages (from keras->keras-retinanet==0.4.1) (1.0.2)\n",
      "Building wheels for collected packages: keras-retinanet, keras-resnet\n",
      "  Running setup.py bdist_wheel for keras-retinanet ... \u001b[?25ldone\n",
      "\u001b[?25h  Stored in directory: /tmp/pip-ephem-wheel-cache-occtenwe/wheels/c8/23/61/16937446e887505bdba11ca6e7c2bd94dfbc050e565207c671\n",
      "  Running setup.py bdist_wheel for keras-resnet ... \u001b[?25ldone\n",
      "\u001b[?25h  Stored in directory: /home/hacker1/.cache/pip/wheels/80/dd/ac/842235b63dddac12faa4b48ebe58b8944e8c2e57c2e38dddb6\n",
      "Successfully built keras-retinanet keras-resnet\n",
      "\u001b[31mmxnet-model-server 0.4 requires mxnet-mkl>=1.2, which is not installed.\u001b[0m\n",
      "\u001b[31mblobxfer 1.3.1 has requirement ruamel.yaml==0.15.41, but you'll have ruamel-yaml 0.15.35 which is incompatible.\u001b[0m\n",
      "\u001b[31mmxnet 1.2.0 has requirement requests<2.19.0,>=2.18.4, but you'll have requests 2.19.1 which is incompatible.\u001b[0m\n",
      "\u001b[31mmxnet-model-server 0.4 has requirement onnx==1.1.1, but you'll have onnx 1.2.2 which is incompatible.\u001b[0m\n",
      "Installing collected packages: keras-resnet, keras-retinanet\n",
      "Successfully installed keras-resnet-0.1.0 keras-retinanet-0.4.1\n",
      "\u001b[33mYou are using pip version 10.0.1, however version 18.0 is available.\n",
      "You should consider upgrading via the 'pip install --upgrade pip' command.\u001b[0m\n"
     ]
    }
   ],
   "source": [
    "import sys\n",
    "!{sys.executable} -m pip install git+https://github.com/fizyr/keras-retinanet.git"
   ]
  },
  {
   "cell_type": "code",
   "execution_count": 22,
   "metadata": {},
   "outputs": [
    {
     "name": "stdout",
     "output_type": "stream",
     "text": [
      "Traceback (most recent call last):\r\n",
      "  File \"keras-retinanet/keras_retinanet/bin/train.py\", line 24, in <module>\r\n",
      "    import keras\r\n",
      "ImportError: No module named keras\r\n"
     ]
    }
   ],
   "source": [
    "! keras-retinanet/keras_retinanet/bin/train.py csv  objects.csv categories.csv"
   ]
  },
  {
   "cell_type": "code",
   "execution_count": null,
   "metadata": {},
   "outputs": [],
   "source": []
  }
 ],
 "metadata": {
  "kernelspec": {
   "display_name": "Python 3",
   "language": "python",
   "name": "python3"
  },
  "language_info": {
   "codemirror_mode": {
    "name": "ipython",
    "version": 3
   },
   "file_extension": ".py",
   "mimetype": "text/x-python",
   "name": "python",
   "nbconvert_exporter": "python",
   "pygments_lexer": "ipython3",
   "version": "3.5.5"
  }
 },
 "nbformat": 4,
 "nbformat_minor": 2
}
