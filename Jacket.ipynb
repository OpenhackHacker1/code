{
 "cells": [
  {
   "cell_type": "code",
   "execution_count": 5,
   "metadata": {},
   "outputs": [],
   "source": [
    "########### Python 3.2 #############\n",
    "import http.client, urllib.request, urllib.parse, urllib.error, base64\n",
    "\n",
    "def processRequestURL(image_url):\n",
    "    \n",
    "    image_url=\"{'Url': '\"+image_url+\"'}\"\n",
    "\n",
    "    headers = {\n",
    "        # Request headers\n",
    "        'Prediction-Key': '',\n",
    "        'Content-Type': 'application/json',\n",
    "        'Prediction-key': 'dbc6b64186094d70b7428f549d7e11c7',\n",
    "    }\n",
    "\n",
    "\n",
    "    params = urllib.parse.urlencode({\n",
    "        # Request parameters\n",
    "        'iterationId': '814444c7-caa7-48fa-9e09-2704649a66c7'\n",
    "    })\n",
    "\n",
    "    try:\n",
    "        conn = http.client.HTTPSConnection('southcentralus.api.cognitive.microsoft.com')\n",
    "        conn.request(\"POST\", \"/customvision/v2.0/Prediction/861e0e32-57dd-48f5-b0a4-87ed731021ef/url?%s\" % params, image_url, headers)\n",
    "        response = conn.getresponse()\n",
    "        data = response.read()\n",
    "        conn.close()\n",
    "    except Exception as e:\n",
    "        print(\"[Errno {0}] {1}\".format(e.errno, e.strerror))\n",
    "\n",
    "    ####################################\n",
    "    return data\n",
    "\n",
    "def processRequestPOST(localUri):\n",
    "    \n",
    "    files = {'file': open(localUri)}\n",
    "    \n",
    "\n",
    "    headers = {\n",
    "        # Request headers\n",
    "        'Prediction-Key': '',\n",
    "        'Content-Type': 'multipart/form-data',\n",
    "        'Prediction-key': 'dbc6b64186094d70b7428f549d7e11c7',\n",
    "    }\n",
    "\n",
    "\n",
    "    params = urllib.parse.urlencode({\n",
    "        # Request parameters\n",
    "        'iterationId': '814444c7-caa7-48fa-9e09-2704649a66c7'\n",
    "    })\n",
    "\n",
    "    try:\n",
    "        url = \"https://southcentralus.api.cognitive.microsoft.com/customvision/v2.0/Prediction/861e0e32-57dd-48f5-b0a4-87ed731021ef/image?%s\" % params\n",
    "        #conn = http.client.HTTPSConnection('southcentralus.api.cognitive.microsoft.com')\n",
    "        #conn.request(\"POST\", \"/customvision/v2.0/Prediction/861e0e32-57dd-48f5-b0a4-87ed731021ef/image?%s\" % params, image_data, headers)\n",
    "        \n",
    "        #response = conn.getresponse()\n",
    "        #data = response.read()\n",
    "        \n",
    "        response = requests.post(url, files=files, headers=headers)\n",
    "        #conn.close()\n",
    "    except Exception as e:\n",
    "        print(\"[Errno {0}] {1}\".format(e.errno, e.strerror))\n",
    "\n",
    "    ####################################\n",
    "    return response"
   ]
  },
  {
   "cell_type": "code",
   "execution_count": 2,
   "metadata": {
    "scrolled": true
   },
   "outputs": [
    {
     "data": {
      "text/html": [
       "<img src=\"None\"/>"
      ],
      "text/plain": [
       "<IPython.core.display.Image object>"
      ]
     },
     "metadata": {},
     "output_type": "display_data"
    },
    {
     "name": "stdout",
     "output_type": "stream",
     "text": [
      "b'{\"code\":\"BadRequestImageFormat\",\"message\":\"Bad Request Image Format, Uri: 8606b5542aef4e1eadd1a5a160dc86dc\"}'\n"
     ]
    }
   ],
   "source": [
    "#result=processRequestURL(\"https://media.salomon.com/products/w680/L39385000.jpg\")\n",
    "#print(result)\n",
    "from IPython.display import display, Image\n",
    "\n",
    "local = 'downloads/outdoor jackets/9. winter-thermal-windbreaker-camping-wool-outdoor-jackets-for-women-skiing-sport-cheap-waterproof-windproof-hiking-jackets.jpg'\n",
    "#img = Image(url=local, embed=False)\n",
    "#display(img)\n",
    "#arr = np.asarray( bytearray( local.content ), \n",
    "#                     dtype=np.uint8 )\n",
    "#img = cv2.imdecode(arr, cv2.IMREAD_COLOR)\n",
    "\n",
    "\n",
    "\n",
    "with open(local, 'rb') as f:\n",
    "        imgdata = f.read()\n",
    "        img = Image(data=imgdata, embed=False)\n",
    "        display(img)\n",
    "        print(processRequestPOST(imgdata))\n",
    "        \n",
    "#url = 'http://jigsaw.w3.org/css-validator/validator'\n"
   ]
  },
  {
   "cell_type": "code",
   "execution_count": 3,
   "metadata": {},
   "outputs": [
    {
     "name": "stdout",
     "output_type": "stream",
     "text": [
      "downloads/outdoor jackets/9. winter-thermal-windbreaker-camping-wool-outdoor-jackets-for-women-skiing-sport-cheap-waterproof-windproof-hiking-jackets.jpg\n",
      "downloads/outdoor jackets/15. mens-winter-jackets.jpg\n",
      "downloads/outdoor jackets/14. 1578613915.jpg\n",
      "downloads/outdoor jackets/13. 2680871365_250332_png\n",
      "downloads/outdoor jackets/8. spring-autumn-men-women-camping-hiking-jacket-outdoor-sport-coat-jaqueta-fishing-outwear-male-jackets-waterproof.jpg\n",
      "downloads/outdoor jackets/12. 560dc816-d1fe-4384-a8b3-fbfe8240d004.jpg\n",
      "downloads/outdoor jackets/1. 10207449x1012905_zm?$thumb225$.jpg\n",
      "downloads/outdoor jackets/4. direnjie-fishing-hiking-camping-trekking-climbing-men-s-outdoor-jacket-fish-climb-travel-quick-dry-trousers.jpg\n",
      "downloads/outdoor jackets/2. new-2018-men-women-outdoor-jackets-windbreaker-waterproof-windproof-camping-hiking-jacket-coat-for-men-fishing.jpg\n",
      "downloads/outdoor jackets/6. irish-country-outdoor-jacket---chocolate.jpg\n",
      "downloads/outdoor jackets/10. rbvaevcen1qabheaaafr1uenbmw101.jpg\n",
      "downloads/outdoor jackets/11. rbvai1iy0g2awnbfaagki3hc7kg632.jpg\n",
      "downloads/outdoor jackets/3. 699045m2_ts.jpg\n",
      "downloads/outdoor jackets/5. winter-outdoor-jackets-army-afs-jeep-jacket.jpg\n",
      "downloads/outdoor jackets/7. fall-outdoors-snow-jacket-men-39-s-winter.jpg\n"
     ]
    }
   ],
   "source": [
    "from os import listdir\n",
    "from os.path import isfile, join\n",
    "mypath = 'downloads/outdoor jackets'\n",
    "onlyfiles = [f for f in listdir(mypath) if isfile(join(mypath, f))]\n",
    "for img in onlyfiles:\n",
    "    uri = mypath + '/' + img\n",
    "    print(uri)\n",
    "    print(processRequestPOST(uri))\n",
    "    #with open(uri, 'rb') as f:\n",
    "    #    imgdata = f.read()\n",
    "    #    print(processRequestPOST(imgdata))\n",
    "        "
   ]
  },
  {
   "cell_type": "code",
   "execution_count": null,
   "metadata": {},
   "outputs": [],
   "source": []
  }
 ],
 "metadata": {
  "kernelspec": {
   "display_name": "Python 3",
   "language": "python",
   "name": "python3"
  },
  "language_info": {
   "codemirror_mode": {
    "name": "ipython",
    "version": 3
   },
   "file_extension": ".py",
   "mimetype": "text/x-python",
   "name": "python",
   "nbconvert_exporter": "python",
   "pygments_lexer": "ipython3",
   "version": "3.5.5"
  }
 },
 "nbformat": 4,
 "nbformat_minor": 2
}
