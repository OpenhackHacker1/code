{
 "cells": [
  {
   "cell_type": "code",
   "execution_count": null,
   "metadata": {},
   "outputs": [],
   "source": [
    "import PIL\n",
    "from PIL import Image\n",
    "from matplotlib import pyplot as plt\n",
    "\n",
    "\n",
    "uri = 'gear_images/hardshell_jackets/10184183x1140536_zm.jpeg'\n",
    "\n",
    "im = Image.open(uri)  \n",
    "w, h = im.size  \n",
    "colors = im.getcolors(w*h)\n",
    "\n",
    "def hexencode(rgb):\n",
    "    r=rgb[0]\n",
    "    g=rgb[1]\n",
    "    b=rgb[2]\n",
    "    return '#%02x%02x%02x' % (r,g,b)\n",
    "\n",
    "for idx, c in enumerate(colors):\n",
    "    plt.bar(idx, c[0], color=hexencode(c[1]))\n",
    "\n",
    "plt.show()"
   ]
  },
  {
   "cell_type": "code",
   "execution_count": null,
   "metadata": {},
   "outputs": [],
   "source": []
  }
 ],
 "metadata": {
  "kernelspec": {
   "display_name": "Python 3",
   "language": "python",
   "name": "python3"
  },
  "language_info": {
   "codemirror_mode": {
    "name": "ipython",
    "version": 3
   },
   "file_extension": ".py",
   "mimetype": "text/x-python",
   "name": "python",
   "nbconvert_exporter": "python",
   "pygments_lexer": "ipython3",
   "version": "3.5.5"
  }
 },
 "nbformat": 4,
 "nbformat_minor": 2
}
