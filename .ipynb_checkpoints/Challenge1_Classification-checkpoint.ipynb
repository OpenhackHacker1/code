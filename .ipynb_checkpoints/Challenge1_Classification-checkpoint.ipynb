{
 "cells": [
  {
   "cell_type": "code",
   "execution_count": 32,
   "metadata": {},
   "outputs": [],
   "source": [
    "#CHALLENGE 1\n",
    "\n",
    "########### Python 3.2 #############\n",
    "import http.client, urllib.request, urllib.parse, urllib.error, base64, requests\n",
    "from IPython.display import display, Image\n",
    "\n",
    "#function for calling URL\n",
    "def processRequestURL(image_url):\n",
    "    \n",
    "    image_url=\"{'Url': '\"+image_url+\"'}\"\n",
    "\n",
    "    headers = {\n",
    "        # Request headers\n",
    "        'Prediction-Key': '',\n",
    "        'Content-Type': 'application/json',\n",
    "        'Prediction-key': 'dbc6b64186094d70b7428f549d7e11c7',\n",
    "    }\n",
    "\n",
    "\n",
    "    params = urllib.parse.urlencode({\n",
    "        # Request parameters\n",
    "        'iterationId': '814444c7-caa7-48fa-9e09-2704649a66c7'\n",
    "    })\n",
    "\n",
    "    try:\n",
    "        conn = http.client.HTTPSConnection('southcentralus.api.cognitive.microsoft.com')\n",
    "        conn.request(\"POST\", \"/customvision/v2.0/Prediction/861e0e32-57dd-48f5-b0a4-87ed731021ef/url?%s\" % params, image_url, headers)\n",
    "        response = conn.getresponse()\n",
    "        data = response.read()\n",
    "        conn.close()\n",
    "    except Exception as e:\n",
    "        print(\"[Errno {0}] {1}\".format(e.errno, e.strerror))\n",
    "\n",
    "    ####################################\n",
    "    return data\n",
    "\n",
    "#function for local images\n",
    "def processRequestPOST(localUri):\n",
    "    \n",
    "    headers = {\n",
    "        # Request headers\n",
    "        'Prediction-Key': '',\n",
    "        'Content-Type': 'multipart/form-data',\n",
    "        'Prediction-key': 'dbc6b64186094d70b7428f549d7e11c7',\n",
    "    }\n",
    "\n",
    "\n",
    "    params = urllib.parse.urlencode({\n",
    "        # Request parameters\n",
    "        'iterationId': '814444c7-caa7-48fa-9e09-2704649a66c7'\n",
    "    })\n",
    "\n",
    "    try:\n",
    "        conn = http.client.HTTPSConnection('southcentralus.api.cognitive.microsoft.com')\n",
    "        conn.request(\"POST\", \"/customvision/v2.0/Prediction/861e0e32-57dd-48f5-b0a4-87ed731021ef/image?%s\" % params, open(localUri, 'rb'), headers)\n",
    "        response = conn.getresponse()\n",
    "        data = response.read()\n",
    "        conn.close()\n",
    "    except Exception as e:\n",
    "        print(\"[Errno {0}] {1}\".format(e.errno, e.strerror))\n",
    "\n",
    "    ####################################\n",
    "    return data"
   ]
  },
  {
   "cell_type": "code",
   "execution_count": 36,
   "metadata": {},
   "outputs": [
    {
     "name": "stdout",
     "output_type": "stream",
     "text": [
      "downloads/outdoor jackets/0002.jpg\n",
      "b'{\"id\":\"92e9c377-6fb8-4b50-a4a8-baf44c043202\",\"project\":\"861e0e32-57dd-48f5-b0a4-87ed731021ef\",\"iteration\":\"814444c7-caa7-48fa-9e09-2704649a66c7\",\"created\":\"2018-09-10T11:28:51.1663449Z\",\"predictions\":[{\"probability\":0.995043,\"tagId\":\"7b06b71e-a6a0-42be-9a2a-9550176dcbc2\",\"tagName\":\"Hardshell\"},{\"probability\":0.00495703751,\"tagId\":\"1d214b0a-f624-4eb8-8449-8e46752da779\",\"tagName\":\"Insulated Jackets\"}]}'\n"
     ]
    },
    {
     "data": {
      "text/html": [
       "<img src=\"downloads/outdoor jackets/0002.jpg\"/>"
      ],
      "text/plain": [
       "<IPython.core.display.Image object>"
      ]
     },
     "metadata": {},
     "output_type": "display_data"
    },
    {
     "name": "stdout",
     "output_type": "stream",
     "text": [
      "downloads/outdoor jackets/0001.jpg\n",
      "b'{\"id\":\"b4a6a95c-4acc-4c78-9776-7a25d7d78934\",\"project\":\"861e0e32-57dd-48f5-b0a4-87ed731021ef\",\"iteration\":\"814444c7-caa7-48fa-9e09-2704649a66c7\",\"created\":\"2018-09-10T11:28:51.9002517Z\",\"predictions\":[{\"probability\":0.766244352,\"tagId\":\"7b06b71e-a6a0-42be-9a2a-9550176dcbc2\",\"tagName\":\"Hardshell\"},{\"probability\":0.233755648,\"tagId\":\"1d214b0a-f624-4eb8-8449-8e46752da779\",\"tagName\":\"Insulated Jackets\"}]}'\n"
     ]
    },
    {
     "data": {
      "text/html": [
       "<img src=\"downloads/outdoor jackets/0001.jpg\"/>"
      ],
      "text/plain": [
       "<IPython.core.display.Image object>"
      ]
     },
     "metadata": {},
     "output_type": "display_data"
    },
    {
     "name": "stdout",
     "output_type": "stream",
     "text": [
      "downloads/outdoor jackets/0011.jpg\n",
      "b'{\"id\":\"58059a4c-f218-49b4-b87d-de479541391f\",\"project\":\"861e0e32-57dd-48f5-b0a4-87ed731021ef\",\"iteration\":\"814444c7-caa7-48fa-9e09-2704649a66c7\",\"created\":\"2018-09-10T11:28:52.7132119Z\",\"predictions\":[{\"probability\":0.994385,\"tagId\":\"7b06b71e-a6a0-42be-9a2a-9550176dcbc2\",\"tagName\":\"Hardshell\"},{\"probability\":0.0056150076,\"tagId\":\"1d214b0a-f624-4eb8-8449-8e46752da779\",\"tagName\":\"Insulated Jackets\"}]}'\n"
     ]
    },
    {
     "data": {
      "text/html": [
       "<img src=\"downloads/outdoor jackets/0011.jpg\"/>"
      ],
      "text/plain": [
       "<IPython.core.display.Image object>"
      ]
     },
     "metadata": {},
     "output_type": "display_data"
    },
    {
     "name": "stdout",
     "output_type": "stream",
     "text": [
      "downloads/outdoor jackets/0010.jpg\n",
      "b'{\"id\":\"aeb706ef-9306-481c-aeae-4fa975cb0a93\",\"project\":\"861e0e32-57dd-48f5-b0a4-87ed731021ef\",\"iteration\":\"814444c7-caa7-48fa-9e09-2704649a66c7\",\"created\":\"2018-09-10T11:28:53.6190142Z\",\"predictions\":[{\"probability\":1.0,\"tagId\":\"1d214b0a-f624-4eb8-8449-8e46752da779\",\"tagName\":\"Insulated Jackets\"},{\"probability\":2.81748431E-12,\"tagId\":\"7b06b71e-a6a0-42be-9a2a-9550176dcbc2\",\"tagName\":\"Hardshell\"}]}'\n"
     ]
    },
    {
     "data": {
      "text/html": [
       "<img src=\"downloads/outdoor jackets/0010.jpg\"/>"
      ],
      "text/plain": [
       "<IPython.core.display.Image object>"
      ]
     },
     "metadata": {},
     "output_type": "display_data"
    },
    {
     "name": "stdout",
     "output_type": "stream",
     "text": [
      "downloads/outdoor jackets/0003.jpg\n",
      "b'{\"id\":\"b587df9c-615e-4d97-91d2-6c5832c880bc\",\"project\":\"861e0e32-57dd-48f5-b0a4-87ed731021ef\",\"iteration\":\"814444c7-caa7-48fa-9e09-2704649a66c7\",\"created\":\"2018-09-10T11:28:54.4783926Z\",\"predictions\":[{\"probability\":1.0,\"tagId\":\"7b06b71e-a6a0-42be-9a2a-9550176dcbc2\",\"tagName\":\"Hardshell\"},{\"probability\":1.45572443E-11,\"tagId\":\"1d214b0a-f624-4eb8-8449-8e46752da779\",\"tagName\":\"Insulated Jackets\"}]}'\n"
     ]
    },
    {
     "data": {
      "text/html": [
       "<img src=\"downloads/outdoor jackets/0003.jpg\"/>"
      ],
      "text/plain": [
       "<IPython.core.display.Image object>"
      ]
     },
     "metadata": {},
     "output_type": "display_data"
    },
    {
     "name": "stdout",
     "output_type": "stream",
     "text": [
      "downloads/outdoor jackets/0012.jpg\n",
      "b'{\"id\":\"856f0352-a425-4a46-88ca-8eaf9317ff38\",\"project\":\"861e0e32-57dd-48f5-b0a4-87ed731021ef\",\"iteration\":\"814444c7-caa7-48fa-9e09-2704649a66c7\",\"created\":\"2018-09-10T11:28:55.3538181Z\",\"predictions\":[{\"probability\":0.7719546,\"tagId\":\"7b06b71e-a6a0-42be-9a2a-9550176dcbc2\",\"tagName\":\"Hardshell\"},{\"probability\":0.2280454,\"tagId\":\"1d214b0a-f624-4eb8-8449-8e46752da779\",\"tagName\":\"Insulated Jackets\"}]}'\n"
     ]
    },
    {
     "data": {
      "text/html": [
       "<img src=\"downloads/outdoor jackets/0012.jpg\"/>"
      ],
      "text/plain": [
       "<IPython.core.display.Image object>"
      ]
     },
     "metadata": {},
     "output_type": "display_data"
    },
    {
     "name": "stdout",
     "output_type": "stream",
     "text": [
      "downloads/outdoor jackets/0013.jpg\n",
      "b'{\"id\":\"54977d3b-f9c4-4026-9d10-d74b32d744f4\",\"project\":\"861e0e32-57dd-48f5-b0a4-87ed731021ef\",\"iteration\":\"814444c7-caa7-48fa-9e09-2704649a66c7\",\"created\":\"2018-09-10T11:28:56.1659055Z\",\"predictions\":[{\"probability\":1.0,\"tagId\":\"1d214b0a-f624-4eb8-8449-8e46752da779\",\"tagName\":\"Insulated Jackets\"},{\"probability\":1.84010029E-10,\"tagId\":\"7b06b71e-a6a0-42be-9a2a-9550176dcbc2\",\"tagName\":\"Hardshell\"}]}'\n"
     ]
    },
    {
     "data": {
      "text/html": [
       "<img src=\"downloads/outdoor jackets/0013.jpg\"/>"
      ],
      "text/plain": [
       "<IPython.core.display.Image object>"
      ]
     },
     "metadata": {},
     "output_type": "display_data"
    },
    {
     "name": "stdout",
     "output_type": "stream",
     "text": [
      "downloads/outdoor jackets/0008.jpg\n",
      "b'{\"id\":\"0b724fa0-d981-47df-8cb6-af71257f5807\",\"project\":\"861e0e32-57dd-48f5-b0a4-87ed731021ef\",\"iteration\":\"814444c7-caa7-48fa-9e09-2704649a66c7\",\"created\":\"2018-09-10T11:28:57.1350602Z\",\"predictions\":[{\"probability\":0.9999893,\"tagId\":\"1d214b0a-f624-4eb8-8449-8e46752da779\",\"tagName\":\"Insulated Jackets\"},{\"probability\":1.07861315E-05,\"tagId\":\"7b06b71e-a6a0-42be-9a2a-9550176dcbc2\",\"tagName\":\"Hardshell\"}]}'\n"
     ]
    },
    {
     "data": {
      "text/html": [
       "<img src=\"downloads/outdoor jackets/0008.jpg\"/>"
      ],
      "text/plain": [
       "<IPython.core.display.Image object>"
      ]
     },
     "metadata": {},
     "output_type": "display_data"
    },
    {
     "name": "stdout",
     "output_type": "stream",
     "text": [
      "downloads/outdoor jackets/rename.sh\n",
      "b'{\"code\":\"BadRequestImageFormat\",\"message\":\"Bad Request Image Format, Uri: 5776503cbca94aeb914cc2a34805a4d8\"}'\n"
     ]
    },
    {
     "data": {
      "text/html": [
       "<img src=\"downloads/outdoor jackets/rename.sh\"/>"
      ],
      "text/plain": [
       "<IPython.core.display.Image object>"
      ]
     },
     "metadata": {},
     "output_type": "display_data"
    },
    {
     "name": "stdout",
     "output_type": "stream",
     "text": [
      "downloads/outdoor jackets/0006.jpg\n",
      "b'{\"id\":\"761d58f3-ea8d-4fd6-92bb-45fd6044f169\",\"project\":\"861e0e32-57dd-48f5-b0a4-87ed731021ef\",\"iteration\":\"814444c7-caa7-48fa-9e09-2704649a66c7\",\"created\":\"2018-09-10T11:28:58.4478401Z\",\"predictions\":[{\"probability\":1.0,\"tagId\":\"1d214b0a-f624-4eb8-8449-8e46752da779\",\"tagName\":\"Insulated Jackets\"},{\"probability\":6.32008064E-13,\"tagId\":\"7b06b71e-a6a0-42be-9a2a-9550176dcbc2\",\"tagName\":\"Hardshell\"}]}'\n"
     ]
    },
    {
     "data": {
      "text/html": [
       "<img src=\"downloads/outdoor jackets/0006.jpg\"/>"
      ],
      "text/plain": [
       "<IPython.core.display.Image object>"
      ]
     },
     "metadata": {},
     "output_type": "display_data"
    },
    {
     "name": "stdout",
     "output_type": "stream",
     "text": [
      "downloads/outdoor jackets/0014.jpg\n",
      "b'{\"code\":\"BadRequestImageFormat\",\"message\":\"Bad Request Image Format, Uri: ad45417d97fa41b1be653447ef316141\"}'\n"
     ]
    },
    {
     "data": {
      "text/html": [
       "<img src=\"downloads/outdoor jackets/0014.jpg\"/>"
      ],
      "text/plain": [
       "<IPython.core.display.Image object>"
      ]
     },
     "metadata": {},
     "output_type": "display_data"
    },
    {
     "name": "stdout",
     "output_type": "stream",
     "text": [
      "downloads/outdoor jackets/0007.jpg\n",
      "b'{\"code\":\"BadRequestImageFormat\",\"message\":\"Bad Request Image Format, Uri: 308e4cbb273b4d8baa0fbec17d97a434\"}'\n"
     ]
    },
    {
     "data": {
      "text/html": [
       "<img src=\"downloads/outdoor jackets/0007.jpg\"/>"
      ],
      "text/plain": [
       "<IPython.core.display.Image object>"
      ]
     },
     "metadata": {},
     "output_type": "display_data"
    },
    {
     "name": "stdout",
     "output_type": "stream",
     "text": [
      "downloads/outdoor jackets/0009.jpg\n",
      "b'{\"code\":\"BadRequestImageFormat\",\"message\":\"Bad Request Image Format, Uri: ea6f6a8609874fd3949df56ae752a6b3\"}'\n"
     ]
    },
    {
     "data": {
      "text/html": [
       "<img src=\"downloads/outdoor jackets/0009.jpg\"/>"
      ],
      "text/plain": [
       "<IPython.core.display.Image object>"
      ]
     },
     "metadata": {},
     "output_type": "display_data"
    },
    {
     "name": "stdout",
     "output_type": "stream",
     "text": [
      "downloads/outdoor jackets/0004.jpg\n",
      "b'{\"id\":\"a723acf3-84b4-46e7-966e-0ace5dde36dc\",\"project\":\"861e0e32-57dd-48f5-b0a4-87ed731021ef\",\"iteration\":\"814444c7-caa7-48fa-9e09-2704649a66c7\",\"created\":\"2018-09-10T11:29:01.4944034Z\",\"predictions\":[{\"probability\":0.9918385,\"tagId\":\"7b06b71e-a6a0-42be-9a2a-9550176dcbc2\",\"tagName\":\"Hardshell\"},{\"probability\":0.008161516,\"tagId\":\"1d214b0a-f624-4eb8-8449-8e46752da779\",\"tagName\":\"Insulated Jackets\"}]}'\n"
     ]
    },
    {
     "data": {
      "text/html": [
       "<img src=\"downloads/outdoor jackets/0004.jpg\"/>"
      ],
      "text/plain": [
       "<IPython.core.display.Image object>"
      ]
     },
     "metadata": {},
     "output_type": "display_data"
    },
    {
     "name": "stdout",
     "output_type": "stream",
     "text": [
      "downloads/outdoor jackets/0005.jpg\n",
      "b'{\"id\":\"9355e2d8-02ad-4348-a878-0c2128a76be7\",\"project\":\"861e0e32-57dd-48f5-b0a4-87ed731021ef\",\"iteration\":\"814444c7-caa7-48fa-9e09-2704649a66c7\",\"created\":\"2018-09-10T11:29:02.3850245Z\",\"predictions\":[{\"probability\":0.999999166,\"tagId\":\"1d214b0a-f624-4eb8-8449-8e46752da779\",\"tagName\":\"Insulated Jackets\"},{\"probability\":8.70487E-07,\"tagId\":\"7b06b71e-a6a0-42be-9a2a-9550176dcbc2\",\"tagName\":\"Hardshell\"}]}'\n"
     ]
    },
    {
     "data": {
      "text/html": [
       "<img src=\"downloads/outdoor jackets/0005.jpg\"/>"
      ],
      "text/plain": [
       "<IPython.core.display.Image object>"
      ]
     },
     "metadata": {},
     "output_type": "display_data"
    }
   ],
   "source": [
    "#PREDICTIONS\n",
    "\n",
    "#Loop on locally downloaded images\n",
    "from os import listdir\n",
    "from os.path import isfile, join\n",
    "mypath = '/gear_images/hardshell_jackets'\n",
    "onlyfiles = [f for f in listdir(mypath) if isfile(join(mypath, f))]\n",
    "for img in onlyfiles:\n",
    "    uri = mypath + '/' + img\n",
    "    print(uri)\n",
    "    print(processRequestPOST(uri))\n",
    "    img = Image(url=uri, embed=False)\n",
    "    display(img)\n",
    "        "
   ]
  },
  {
   "cell_type": "code",
   "execution_count": 38,
   "metadata": {},
   "outputs": [
    {
     "name": "stdout",
     "output_type": "stream",
     "text": [
      "b'{\"id\":\"39331e5d-66b7-4089-966b-9e5cdc85bc1b\",\"project\":\"861e0e32-57dd-48f5-b0a4-87ed731021ef\",\"iteration\":\"814444c7-caa7-48fa-9e09-2704649a66c7\",\"created\":\"2018-09-10T11:33:36.5502884Z\",\"predictions\":[{\"probability\":0.998883069,\"tagId\":\"7b06b71e-a6a0-42be-9a2a-9550176dcbc2\",\"tagName\":\"Hardshell\"},{\"probability\":0.001116945,\"tagId\":\"1d214b0a-f624-4eb8-8449-8e46752da779\",\"tagName\":\"Insulated Jackets\"}]}'\n"
     ]
    },
    {
     "data": {
      "text/html": [
       "<img src=\"https://www.backpacker.com/.image/ar_8:10%2Cc_fill%2Ccs_srgb%2Cfl_progressive%2Cg_faces:center%2Cq_auto:good%2Cw_620/MTQ0OTE0MDQ1ODIwODcyNDIx/ortovox-civetta-hardshell.jpg\"/>"
      ],
      "text/plain": [
       "<IPython.core.display.Image object>"
      ]
     },
     "metadata": {},
     "output_type": "display_data"
    }
   ],
   "source": [
    "# Call from URL\n",
    "url='https://www.backpacker.com/.image/ar_8:10%2Cc_fill%2Ccs_srgb%2Cfl_progressive%2Cg_faces:center%2Cq_auto:good%2Cw_620/MTQ0OTE0MDQ1ODIwODcyNDIx/ortovox-civetta-hardshell.jpg'\n",
    "print(processRequestURL(url))\n",
    "img = Image(url=url, embed=False)\n",
    "display(img)"
   ]
  },
  {
   "cell_type": "code",
   "execution_count": null,
   "metadata": {},
   "outputs": [],
   "source": []
  }
 ],
 "metadata": {
  "kernelspec": {
   "display_name": "Python 3",
   "language": "python",
   "name": "python3"
  },
  "language_info": {
   "codemirror_mode": {
    "name": "ipython",
    "version": 3
   },
   "file_extension": ".py",
   "mimetype": "text/x-python",
   "name": "python",
   "nbconvert_exporter": "python",
   "pygments_lexer": "ipython3",
   "version": "3.5.5"
  }
 },
 "nbformat": 4,
 "nbformat_minor": 2
}
