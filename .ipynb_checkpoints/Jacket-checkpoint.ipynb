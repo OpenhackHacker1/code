{
 "cells": [
  {
   "cell_type": "code",
   "execution_count": 32,
   "metadata": {},
   "outputs": [],
   "source": [
    "\n",
    "\n",
    "########### Python 3.2 #############\n",
    "import http.client, urllib.request, urllib.parse, urllib.error, base64, requests\n",
    "\n",
    "def processRequestURL(image_url):\n",
    "    \n",
    "    image_url=\"{'Url': '\"+image_url+\"'}\"\n",
    "\n",
    "    headers = {\n",
    "        # Request headers\n",
    "        'Prediction-Key': '',\n",
    "        'Content-Type': 'application/json',\n",
    "        'Prediction-key': 'dbc6b64186094d70b7428f549d7e11c7',\n",
    "    }\n",
    "\n",
    "\n",
    "    params = urllib.parse.urlencode({\n",
    "        # Request parameters\n",
    "        'iterationId': '814444c7-caa7-48fa-9e09-2704649a66c7'\n",
    "    })\n",
    "\n",
    "    try:\n",
    "        conn = http.client.HTTPSConnection('southcentralus.api.cognitive.microsoft.com')\n",
    "        conn.request(\"POST\", \"/customvision/v2.0/Prediction/861e0e32-57dd-48f5-b0a4-87ed731021ef/url?%s\" % params, image_url, headers)\n",
    "        response = conn.getresponse()\n",
    "        data = response.read()\n",
    "        conn.close()\n",
    "    except Exception as e:\n",
    "        print(\"[Errno {0}] {1}\".format(e.errno, e.strerror))\n",
    "\n",
    "    ####################################\n",
    "    return data\n",
    "\n",
    "def processRequestPOST(localUri):\n",
    "    \n",
    "    headers = {\n",
    "        # Request headers\n",
    "        'Prediction-Key': '',\n",
    "        'Content-Type': 'multipart/form-data',\n",
    "        'Prediction-key': 'dbc6b64186094d70b7428f549d7e11c7',\n",
    "    }\n",
    "\n",
    "\n",
    "    params = urllib.parse.urlencode({\n",
    "        # Request parameters\n",
    "        'iterationId': '814444c7-caa7-48fa-9e09-2704649a66c7'\n",
    "    })\n",
    "\n",
    "    try:\n",
    "        conn = http.client.HTTPSConnection('southcentralus.api.cognitive.microsoft.com')\n",
    "        conn.request(\"POST\", \"/customvision/v2.0/Prediction/861e0e32-57dd-48f5-b0a4-87ed731021ef/image?%s\" % params, open(localUri, 'rb'), headers)\n",
    "        response = conn.getresponse()\n",
    "        data = response.read()\n",
    "        conn.close()\n",
    "    except Exception as e:\n",
    "        print(\"[Errno {0}] {1}\".format(e.errno, e.strerror))\n",
    "\n",
    "    ####################################\n",
    "    return data"
   ]
  },
  {
   "cell_type": "code",
   "execution_count": 33,
   "metadata": {
    "scrolled": true
   },
   "outputs": [
    {
     "name": "stdout",
     "output_type": "stream",
     "text": [
      "b'{\"id\":\"a580e22a-500a-4017-9424-ce53e9b64abf\",\"project\":\"861e0e32-57dd-48f5-b0a4-87ed731021ef\",\"iteration\":\"814444c7-caa7-48fa-9e09-2704649a66c7\",\"created\":\"2018-09-10T11:26:25.4896756Z\",\"predictions\":[{\"probability\":0.766244352,\"tagId\":\"7b06b71e-a6a0-42be-9a2a-9550176dcbc2\",\"tagName\":\"Hardshell\"},{\"probability\":0.233755648,\"tagId\":\"1d214b0a-f624-4eb8-8449-8e46752da779\",\"tagName\":\"Insulated Jackets\"}]}'\n"
     ]
    }
   ],
   "source": [
    "#result=processRequestURL(\"https://media.salomon.com/products/w680/L39385000.jpg\")\n",
    "#print(result)\n",
    "from IPython.display import display, Image\n",
    "\n",
    "local = \"downloads/outdoor jackets/0001.jpg\"\n",
    "\n",
    "print(processRequestPOST(local))\n",
    "\n",
    "#with open(local, 'rb') as f:\n",
    "#        imgdata = f.read()\n",
    "#        img = Image(data=imgdata, embed=False)\n",
    "#        display(img)\n",
    "#        print(processRequestPOST(imgdata))\n",
    "        \n",
    "#url = 'http://jigsaw.w3.org/css-validator/validator'\n"
   ]
  },
  {
   "cell_type": "code",
   "execution_count": null,
   "metadata": {},
   "outputs": [
    {
     "name": "stdout",
     "output_type": "stream",
     "text": [
      "downloads/outdoor jackets/0002.jpg\n",
      "b'{\"id\":\"5790096e-b150-4d5e-b42f-04e12230d7d6\",\"project\":\"861e0e32-57dd-48f5-b0a4-87ed731021ef\",\"iteration\":\"814444c7-caa7-48fa-9e09-2704649a66c7\",\"created\":\"2018-09-10T11:27:44.2395664Z\",\"predictions\":[{\"probability\":0.995043,\"tagId\":\"7b06b71e-a6a0-42be-9a2a-9550176dcbc2\",\"tagName\":\"Hardshell\"},{\"probability\":0.00495703751,\"tagId\":\"1d214b0a-f624-4eb8-8449-8e46752da779\",\"tagName\":\"Insulated Jackets\"}]}'\n"
     ]
    },
    {
     "data": {
      "text/html": [
       "<img src=\"None\"/>"
      ],
      "text/plain": [
       "<IPython.core.display.Image object>"
      ]
     },
     "metadata": {},
     "output_type": "display_data"
    },
    {
     "name": "stdout",
     "output_type": "stream",
     "text": [
      "downloads/outdoor jackets/0001.jpg\n",
      "b'{\"id\":\"00f7ae12-3f4f-4f1e-9fc7-e50568ddee91\",\"project\":\"861e0e32-57dd-48f5-b0a4-87ed731021ef\",\"iteration\":\"814444c7-caa7-48fa-9e09-2704649a66c7\",\"created\":\"2018-09-10T11:27:45.2429585Z\",\"predictions\":[{\"probability\":0.766244352,\"tagId\":\"7b06b71e-a6a0-42be-9a2a-9550176dcbc2\",\"tagName\":\"Hardshell\"},{\"probability\":0.233755648,\"tagId\":\"1d214b0a-f624-4eb8-8449-8e46752da779\",\"tagName\":\"Insulated Jackets\"}]}'\n"
     ]
    },
    {
     "data": {
      "text/html": [
       "<img src=\"None\"/>"
      ],
      "text/plain": [
       "<IPython.core.display.Image object>"
      ]
     },
     "metadata": {},
     "output_type": "display_data"
    },
    {
     "name": "stdout",
     "output_type": "stream",
     "text": [
      "downloads/outdoor jackets/0011.jpg\n",
      "b'{\"id\":\"fbb89a90-a828-4b50-949c-f6cbfa8324c7\",\"project\":\"861e0e32-57dd-48f5-b0a4-87ed731021ef\",\"iteration\":\"814444c7-caa7-48fa-9e09-2704649a66c7\",\"created\":\"2018-09-10T11:27:46.0989541Z\",\"predictions\":[{\"probability\":0.994385,\"tagId\":\"7b06b71e-a6a0-42be-9a2a-9550176dcbc2\",\"tagName\":\"Hardshell\"},{\"probability\":0.0056150076,\"tagId\":\"1d214b0a-f624-4eb8-8449-8e46752da779\",\"tagName\":\"Insulated Jackets\"}]}'\n"
     ]
    },
    {
     "data": {
      "text/html": [
       "<img src=\"None\"/>"
      ],
      "text/plain": [
       "<IPython.core.display.Image object>"
      ]
     },
     "metadata": {},
     "output_type": "display_data"
    },
    {
     "name": "stdout",
     "output_type": "stream",
     "text": [
      "downloads/outdoor jackets/0010.jpg\n",
      "b'{\"id\":\"f98636c4-0060-43e4-ae50-b4cf94b840df\",\"project\":\"861e0e32-57dd-48f5-b0a4-87ed731021ef\",\"iteration\":\"814444c7-caa7-48fa-9e09-2704649a66c7\",\"created\":\"2018-09-10T11:27:46.9895859Z\",\"predictions\":[{\"probability\":1.0,\"tagId\":\"1d214b0a-f624-4eb8-8449-8e46752da779\",\"tagName\":\"Insulated Jackets\"},{\"probability\":2.81748431E-12,\"tagId\":\"7b06b71e-a6a0-42be-9a2a-9550176dcbc2\",\"tagName\":\"Hardshell\"}]}'\n"
     ]
    },
    {
     "data": {
      "text/html": [
       "<img src=\"None\"/>"
      ],
      "text/plain": [
       "<IPython.core.display.Image object>"
      ]
     },
     "metadata": {},
     "output_type": "display_data"
    },
    {
     "name": "stdout",
     "output_type": "stream",
     "text": [
      "downloads/outdoor jackets/0003.jpg\n",
      "b'{\"id\":\"faf95fd2-0b0d-4f7e-8d6e-d9f9818ac54d\",\"project\":\"861e0e32-57dd-48f5-b0a4-87ed731021ef\",\"iteration\":\"814444c7-caa7-48fa-9e09-2704649a66c7\",\"created\":\"2018-09-10T11:27:47.8523184Z\",\"predictions\":[{\"probability\":1.0,\"tagId\":\"7b06b71e-a6a0-42be-9a2a-9550176dcbc2\",\"tagName\":\"Hardshell\"},{\"probability\":1.45572443E-11,\"tagId\":\"1d214b0a-f624-4eb8-8449-8e46752da779\",\"tagName\":\"Insulated Jackets\"}]}'\n"
     ]
    },
    {
     "data": {
      "text/html": [
       "<img src=\"None\"/>"
      ],
      "text/plain": [
       "<IPython.core.display.Image object>"
      ]
     },
     "metadata": {},
     "output_type": "display_data"
    },
    {
     "name": "stdout",
     "output_type": "stream",
     "text": [
      "downloads/outdoor jackets/0012.jpg\n",
      "b'{\"id\":\"3a4dd293-565d-458c-a8b6-fdbd2a1cef06\",\"project\":\"861e0e32-57dd-48f5-b0a4-87ed731021ef\",\"iteration\":\"814444c7-caa7-48fa-9e09-2704649a66c7\",\"created\":\"2018-09-10T11:27:48.7122817Z\",\"predictions\":[{\"probability\":0.7719546,\"tagId\":\"7b06b71e-a6a0-42be-9a2a-9550176dcbc2\",\"tagName\":\"Hardshell\"},{\"probability\":0.2280454,\"tagId\":\"1d214b0a-f624-4eb8-8449-8e46752da779\",\"tagName\":\"Insulated Jackets\"}]}'\n"
     ]
    },
    {
     "data": {
      "text/html": [
       "<img src=\"None\"/>"
      ],
      "text/plain": [
       "<IPython.core.display.Image object>"
      ]
     },
     "metadata": {},
     "output_type": "display_data"
    },
    {
     "name": "stdout",
     "output_type": "stream",
     "text": [
      "downloads/outdoor jackets/0013.jpg\n",
      "b'{\"id\":\"f07887a7-5db1-41b0-918e-97a2bd801a02\",\"project\":\"861e0e32-57dd-48f5-b0a4-87ed731021ef\",\"iteration\":\"814444c7-caa7-48fa-9e09-2704649a66c7\",\"created\":\"2018-09-10T11:27:49.5848925Z\",\"predictions\":[{\"probability\":1.0,\"tagId\":\"1d214b0a-f624-4eb8-8449-8e46752da779\",\"tagName\":\"Insulated Jackets\"},{\"probability\":1.84010029E-10,\"tagId\":\"7b06b71e-a6a0-42be-9a2a-9550176dcbc2\",\"tagName\":\"Hardshell\"}]}'\n"
     ]
    },
    {
     "data": {
      "text/html": [
       "<img src=\"None\"/>"
      ],
      "text/plain": [
       "<IPython.core.display.Image object>"
      ]
     },
     "metadata": {},
     "output_type": "display_data"
    },
    {
     "name": "stdout",
     "output_type": "stream",
     "text": [
      "downloads/outdoor jackets/0008.jpg\n"
     ]
    }
   ],
   "source": [
    "from os import listdir\n",
    "from os.path import isfile, join\n",
    "mypath = 'downloads/outdoor jackets'\n",
    "onlyfiles = [f for f in listdir(mypath) if isfile(join(mypath, f))]\n",
    "for img in onlyfiles:\n",
    "    uri = mypath + '/' + img\n",
    "    print(uri)\n",
    "    print(processRequestPOST(uri))\n",
    "    img = Image(filename=uri, embed=False)\n",
    "    display(img)\n",
    "    #with open(uri, 'rb') as f:\n",
    "    #    imgdata = f.read()\n",
    "    #    print(processRequestPOST(imgdata))\n",
    "        "
   ]
  },
  {
   "cell_type": "code",
   "execution_count": null,
   "metadata": {},
   "outputs": [],
   "source": []
  }
 ],
 "metadata": {
  "kernelspec": {
   "display_name": "Python 3",
   "language": "python",
   "name": "python3"
  },
  "language_info": {
   "codemirror_mode": {
    "name": "ipython",
    "version": 3
   },
   "file_extension": ".py",
   "mimetype": "text/x-python",
   "name": "python",
   "nbconvert_exporter": "python",
   "pygments_lexer": "ipython3",
   "version": "3.5.5"
  }
 },
 "nbformat": 4,
 "nbformat_minor": 2
}
