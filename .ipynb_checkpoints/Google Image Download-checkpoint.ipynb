{
 "cells": [
  {
   "cell_type": "code",
   "execution_count": 11,
   "metadata": {},
   "outputs": [],
   "source": [
    "from google_images_download import google_images_download\n",
    "\n",
    "response = google_images_download.googleimagesdownload()\n"
   ]
  },
  {
   "cell_type": "code",
   "execution_count": null,
   "metadata": {},
   "outputs": [
    {
     "name": "stdout",
     "output_type": "stream",
     "text": [
      "\n",
      "Item no.: 1 --> Item name = outdoor jackets\n",
      "Evaluating...\n",
      "Starting Download...\n",
      "Image URL: https://s7d1.scene7.com/is/image/MoosejawMB/10207449x1012905_zm?$thumb225$\n",
      "Completed Image ====> 1. 10207449x1012905_zm?$thumb225$.jpg\n",
      "Image URL: https://ae01.alicdn.com/kf/HTB1HWNFNVXXXXcdaXXXq6xXFXXXS/New-2018-men-Women-Outdoor-jackets-windbreaker-waterproof-Windproof-Camping-Hiking-jacket-coat-for-men-fishing.jpg\n",
      "Completed Image ====> 2. new-2018-men-women-outdoor-jackets-windbreaker-waterproof-windproof-camping-hiking-jacket-coat-for-men-fishing.jpg\n",
      "Image URL: https://image.sportsmansguide.com/adimgs/l/6/699045m2_ts.jpg\n",
      "Completed Image ====> 3. 699045m2_ts.jpg\n",
      "Image URL: https://ae01.alicdn.com/kf/HTB13CTlSFXXXXaxXVXXq6xXFXXXR/DIRENJIE-Fishing-Hiking-Camping-Trekking-Climbing-Men-s-Outdoor-Jacket-Fish-Climb-Travel-Quick-Dry-Trousers.jpg_640x640.jpg\n",
      "Completed Image ====> 4. direnjie-fishing-hiking-camping-trekking-climbing-men-s-outdoor-jacket-fish-climb-travel-quick-dry-trousers.jpg\n",
      "Image URL: https://www.dhresource.com/0x0s/f2-albu-g5-M01-17-05-rBVaJFg5jaKAXiXLAAGLtZoqdEY301.jpg/winter-outdoor-jackets-army-afs-jeep-jacket.jpg\n"
     ]
    }
   ],
   "source": [
    "arguments = {\"keywords\":\"outdoor jackets\",\"limit\":15,\"print_urls\":True} \n",
    "paths = response.download(arguments)\n"
   ]
  },
  {
   "cell_type": "code",
   "execution_count": null,
   "metadata": {},
   "outputs": [],
   "source": []
  }
 ],
 "metadata": {
  "kernelspec": {
   "display_name": "Python 3",
   "language": "python",
   "name": "python3"
  },
  "language_info": {
   "codemirror_mode": {
    "name": "ipython",
    "version": 3
   },
   "file_extension": ".py",
   "mimetype": "text/x-python",
   "name": "python",
   "nbconvert_exporter": "python",
   "pygments_lexer": "ipython3",
   "version": "3.5.5"
  }
 },
 "nbformat": 4,
 "nbformat_minor": 2
}
